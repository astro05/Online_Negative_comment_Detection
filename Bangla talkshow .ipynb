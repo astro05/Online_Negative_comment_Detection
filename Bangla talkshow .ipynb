{
  "cells": [
    {
      "cell_type": "code",
      "execution_count": null,
      "metadata": {
        "id": "-cQKmnS67CsC"
      },
      "outputs": [],
      "source": [
        "# !pip install tensorflow tensorflow-gpu pandas matplotlib sklearn"
      ]
    },
    {
      "cell_type": "code",
      "execution_count": null,
      "metadata": {
        "id": "jm5kkchmB_Oy"
      },
      "outputs": [],
      "source": [
        "import pandas as pd\n",
        "import numpy as np\n",
        "import seaborn as sns\n",
        "import os\n",
        "import tensorflow as tf\n",
        "\n",
        "from sklearn.preprocessing import LabelEncoder\n",
        "from sklearn.feature_extraction.text import TfidfVectorizer\n",
        "from sklearn.model_selection import train_test_split\n",
        "from sklearn.metrics import classification_report,accuracy_score,precision_score,recall_score,f1_score\n",
        "\n",
        "import re"
      ]
    },
    {
      "cell_type": "code",
      "execution_count": null,
      "metadata": {
        "id": "auztsJj3PzkW"
      },
      "outputs": [],
      "source": [
        "import pandas as pd\n",
        "from pandas import read_excel\n",
        "import numpy as np\n",
        "import re\n",
        "from re import sub\n",
        "import multiprocessing\n",
        "\n",
        "import os\n",
        "from time import time \n",
        "import tensorflow as tf\n",
        "import keras\n",
        "from keras.models import Sequential\n",
        "from keras.layers import LSTM,Dense,Dropout,Activation,Embedding,Flatten,Bidirectional,MaxPooling2D, Conv1D, MaxPooling1D\n",
        "from tensorflow.keras.optimizers import SGD, Adam\n",
        "from keras import regularizers\n",
        "from keras.preprocessing.text import Tokenizer\n",
        "from keras.preprocessing.sequence import pad_sequences\n",
        "from keras.utils.np_utils import to_categorical\n",
        "import h5py\n",
        "import csv\n",
        "import seaborn as sns\n",
        "import matplotlib.pyplot as plt\n",
        "from sklearn.model_selection import train_test_split\n",
        "from sklearn.model_selection import StratifiedKFold"
      ]
    },
    {
      "cell_type": "code",
      "execution_count": null,
      "metadata": {
        "colab": {
          "base_uri": "https://localhost:8080/"
        },
        "id": "DzFDFXmoCMFY",
        "outputId": "e65c21d8-1b55-4cd4-dc6f-18da49025516"
      },
      "outputs": [
        {
          "name": "stdout",
          "output_type": "stream",
          "text": [
            "Mounted at /content/drive\n"
          ]
        }
      ],
      "source": [
        "from google.colab import drive\n",
        "drive.mount('/content/drive')"
      ]
    },
    {
      "cell_type": "code",
      "execution_count": null,
      "metadata": {
        "id": "rhVhoYc6CTxS"
      },
      "outputs": [],
      "source": [
        "df_path= '/content/train.txt'\n",
        "\n",
        "#df_path= '/content/predicted_unsupervised_sentiment.xlsx'\n"
      ]
    },
    {
      "cell_type": "code",
      "execution_count": null,
      "metadata": {
        "id": "3vaYFpJVCcaA"
      },
      "outputs": [],
      "source": [
        "df = pd.read_csv(df_path, sep='|', names=['label','comment'],on_bad_lines='skip')\n",
        "\n",
        "#df = pd.read_excel(df_path)"
      ]
    },
    {
      "cell_type": "code",
      "execution_count": null,
      "metadata": {
        "colab": {
          "base_uri": "https://localhost:8080/",
          "height": 424
        },
        "id": "hdzLb3vtIcM1",
        "outputId": "73d27efd-743c-4e8a-d859-a6a536cc0e95"
      },
      "outputs": [
        {
          "data": {
            "text/html": [
              "\n",
              "  <div id=\"df-3b16b870-8cdf-4981-8048-054172e73038\">\n",
              "    <div class=\"colab-df-container\">\n",
              "      <div>\n",
              "<style scoped>\n",
              "    .dataframe tbody tr th:only-of-type {\n",
              "        vertical-align: middle;\n",
              "    }\n",
              "\n",
              "    .dataframe tbody tr th {\n",
              "        vertical-align: top;\n",
              "    }\n",
              "\n",
              "    .dataframe thead th {\n",
              "        text-align: right;\n",
              "    }\n",
              "</style>\n",
              "<table border=\"1\" class=\"dataframe\">\n",
              "  <thead>\n",
              "    <tr style=\"text-align: right;\">\n",
              "      <th></th>\n",
              "      <th>label</th>\n",
              "      <th>comment</th>\n",
              "    </tr>\n",
              "  </thead>\n",
              "  <tbody>\n",
              "    <tr>\n",
              "      <th>0</th>\n",
              "      <td>sad</td>\n",
              "      <td>বরাবর, মাননীয় প্রধানমন্ত্রী গণপ্রজাতন্ত্রী ব...</td>\n",
              "    </tr>\n",
              "    <tr>\n",
              "      <th>1</th>\n",
              "      <td>sad</td>\n",
              "      <td>তদন্ত করে লাভ কী ? কোন দিন কোন তদন্তের পর কিছ...</td>\n",
              "    </tr>\n",
              "    <tr>\n",
              "      <th>2</th>\n",
              "      <td>angry</td>\n",
              "      <td>দেশকি মধ্যম আয়ের দেশে রুপান্তর হচ্ছে নাকি মগে...</td>\n",
              "    </tr>\n",
              "    <tr>\n",
              "      <th>3</th>\n",
              "      <td>happy</td>\n",
              "      <td>আমি গর্বিত আমি মুসলিম। আমি সংগ্রামী। আমি যোদ্...</td>\n",
              "    </tr>\n",
              "    <tr>\n",
              "      <th>4</th>\n",
              "      <td>angry</td>\n",
              "      <td>রাতের বেলা আবার কিসের সকাল।</td>\n",
              "    </tr>\n",
              "    <tr>\n",
              "      <th>...</th>\n",
              "      <td>...</td>\n",
              "      <td>...</td>\n",
              "    </tr>\n",
              "    <tr>\n",
              "      <th>6309</th>\n",
              "      <td>surprise</td>\n",
              "      <td>ভারতে প্রতিদিন ১৮ টা রেপ কেইস এন্ট্রি হয়</td>\n",
              "    </tr>\n",
              "    <tr>\n",
              "      <th>6310</th>\n",
              "      <td>surprise</td>\n",
              "      <td>এই কি স্বাধীন দেশ</td>\n",
              "    </tr>\n",
              "    <tr>\n",
              "      <th>6311</th>\n",
              "      <td>sad</td>\n",
              "      <td>স্বাধীন দেশের নাগরিক হয়ে ও আজ আমরা পরাধীন।</td>\n",
              "    </tr>\n",
              "    <tr>\n",
              "      <th>6312</th>\n",
              "      <td>angry</td>\n",
              "      <td>চুদলাম দাদা পয়সা নাই</td>\n",
              "    </tr>\n",
              "    <tr>\n",
              "      <th>6313</th>\n",
              "      <td>sad</td>\n",
              "      <td>আমরা মানুষের মত হয়ে বাচতে চায়,পরাধীন হয়ে নয়</td>\n",
              "    </tr>\n",
              "  </tbody>\n",
              "</table>\n",
              "<p>6314 rows × 2 columns</p>\n",
              "</div>\n",
              "      <button class=\"colab-df-convert\" onclick=\"convertToInteractive('df-3b16b870-8cdf-4981-8048-054172e73038')\"\n",
              "              title=\"Convert this dataframe to an interactive table.\"\n",
              "              style=\"display:none;\">\n",
              "        \n",
              "  <svg xmlns=\"http://www.w3.org/2000/svg\" height=\"24px\"viewBox=\"0 0 24 24\"\n",
              "       width=\"24px\">\n",
              "    <path d=\"M0 0h24v24H0V0z\" fill=\"none\"/>\n",
              "    <path d=\"M18.56 5.44l.94 2.06.94-2.06 2.06-.94-2.06-.94-.94-2.06-.94 2.06-2.06.94zm-11 1L8.5 8.5l.94-2.06 2.06-.94-2.06-.94L8.5 2.5l-.94 2.06-2.06.94zm10 10l.94 2.06.94-2.06 2.06-.94-2.06-.94-.94-2.06-.94 2.06-2.06.94z\"/><path d=\"M17.41 7.96l-1.37-1.37c-.4-.4-.92-.59-1.43-.59-.52 0-1.04.2-1.43.59L10.3 9.45l-7.72 7.72c-.78.78-.78 2.05 0 2.83L4 21.41c.39.39.9.59 1.41.59.51 0 1.02-.2 1.41-.59l7.78-7.78 2.81-2.81c.8-.78.8-2.07 0-2.86zM5.41 20L4 18.59l7.72-7.72 1.47 1.35L5.41 20z\"/>\n",
              "  </svg>\n",
              "      </button>\n",
              "      \n",
              "  <style>\n",
              "    .colab-df-container {\n",
              "      display:flex;\n",
              "      flex-wrap:wrap;\n",
              "      gap: 12px;\n",
              "    }\n",
              "\n",
              "    .colab-df-convert {\n",
              "      background-color: #E8F0FE;\n",
              "      border: none;\n",
              "      border-radius: 50%;\n",
              "      cursor: pointer;\n",
              "      display: none;\n",
              "      fill: #1967D2;\n",
              "      height: 32px;\n",
              "      padding: 0 0 0 0;\n",
              "      width: 32px;\n",
              "    }\n",
              "\n",
              "    .colab-df-convert:hover {\n",
              "      background-color: #E2EBFA;\n",
              "      box-shadow: 0px 1px 2px rgba(60, 64, 67, 0.3), 0px 1px 3px 1px rgba(60, 64, 67, 0.15);\n",
              "      fill: #174EA6;\n",
              "    }\n",
              "\n",
              "    [theme=dark] .colab-df-convert {\n",
              "      background-color: #3B4455;\n",
              "      fill: #D2E3FC;\n",
              "    }\n",
              "\n",
              "    [theme=dark] .colab-df-convert:hover {\n",
              "      background-color: #434B5C;\n",
              "      box-shadow: 0px 1px 3px 1px rgba(0, 0, 0, 0.15);\n",
              "      filter: drop-shadow(0px 1px 2px rgba(0, 0, 0, 0.3));\n",
              "      fill: #FFFFFF;\n",
              "    }\n",
              "  </style>\n",
              "\n",
              "      <script>\n",
              "        const buttonEl =\n",
              "          document.querySelector('#df-3b16b870-8cdf-4981-8048-054172e73038 button.colab-df-convert');\n",
              "        buttonEl.style.display =\n",
              "          google.colab.kernel.accessAllowed ? 'block' : 'none';\n",
              "\n",
              "        async function convertToInteractive(key) {\n",
              "          const element = document.querySelector('#df-3b16b870-8cdf-4981-8048-054172e73038');\n",
              "          const dataTable =\n",
              "            await google.colab.kernel.invokeFunction('convertToInteractive',\n",
              "                                                     [key], {});\n",
              "          if (!dataTable) return;\n",
              "\n",
              "          const docLinkHtml = 'Like what you see? Visit the ' +\n",
              "            '<a target=\"_blank\" href=https://colab.research.google.com/notebooks/data_table.ipynb>data table notebook</a>'\n",
              "            + ' to learn more about interactive tables.';\n",
              "          element.innerHTML = '';\n",
              "          dataTable['output_type'] = 'display_data';\n",
              "          await google.colab.output.renderOutput(dataTable, element);\n",
              "          const docLink = document.createElement('div');\n",
              "          docLink.innerHTML = docLinkHtml;\n",
              "          element.appendChild(docLink);\n",
              "        }\n",
              "      </script>\n",
              "    </div>\n",
              "  </div>\n",
              "  "
            ],
            "text/plain": [
              "         label                                            comment\n",
              "0          sad   বরাবর, মাননীয় প্রধানমন্ত্রী গণপ্রজাতন্ত্রী ব...\n",
              "1          sad   তদন্ত করে লাভ কী ? কোন দিন কোন তদন্তের পর কিছ...\n",
              "2        angry   দেশকি মধ্যম আয়ের দেশে রুপান্তর হচ্ছে নাকি মগে...\n",
              "3        happy   আমি গর্বিত আমি মুসলিম। আমি সংগ্রামী। আমি যোদ্...\n",
              "4        angry                        রাতের বেলা আবার কিসের সকাল।\n",
              "...        ...                                                ...\n",
              "6309  surprise           ভারতে প্রতিদিন ১৮ টা রেপ কেইস এন্ট্রি হয়\n",
              "6310  surprise                                  এই কি স্বাধীন দেশ\n",
              "6311       sad         স্বাধীন দেশের নাগরিক হয়ে ও আজ আমরা পরাধীন।\n",
              "6312     angry                               চুদলাম দাদা পয়সা নাই\n",
              "6313       sad        আমরা মানুষের মত হয়ে বাচতে চায়,পরাধীন হয়ে নয়\n",
              "\n",
              "[6314 rows x 2 columns]"
            ]
          },
          "execution_count": 8,
          "metadata": {},
          "output_type": "execute_result"
        }
      ],
      "source": [
        "df"
      ]
    },
    {
      "cell_type": "code",
      "execution_count": null,
      "metadata": {
        "id": "9DLbmM2buvMb"
      },
      "outputs": [],
      "source": [
        "#df['comment'] = df.sentence\n",
        "#df['label'] = df.sentiment"
      ]
    },
    {
      "cell_type": "code",
      "execution_count": null,
      "metadata": {
        "colab": {
          "base_uri": "https://localhost:8080/",
          "height": 424
        },
        "id": "QhNjLDMDvE78",
        "outputId": "933aab0d-d0dc-45e8-b900-c63c119b989a"
      },
      "outputs": [
        {
          "data": {
            "text/html": [
              "\n",
              "  <div id=\"df-2f0f9dfc-33f4-4a5b-bb3b-9c3aab301473\">\n",
              "    <div class=\"colab-df-container\">\n",
              "      <div>\n",
              "<style scoped>\n",
              "    .dataframe tbody tr th:only-of-type {\n",
              "        vertical-align: middle;\n",
              "    }\n",
              "\n",
              "    .dataframe tbody tr th {\n",
              "        vertical-align: top;\n",
              "    }\n",
              "\n",
              "    .dataframe thead th {\n",
              "        text-align: right;\n",
              "    }\n",
              "</style>\n",
              "<table border=\"1\" class=\"dataframe\">\n",
              "  <thead>\n",
              "    <tr style=\"text-align: right;\">\n",
              "      <th></th>\n",
              "      <th>label</th>\n",
              "      <th>comment</th>\n",
              "    </tr>\n",
              "  </thead>\n",
              "  <tbody>\n",
              "    <tr>\n",
              "      <th>0</th>\n",
              "      <td>sad</td>\n",
              "      <td>বরাবর, মাননীয় প্রধানমন্ত্রী গণপ্রজাতন্ত্রী ব...</td>\n",
              "    </tr>\n",
              "    <tr>\n",
              "      <th>1</th>\n",
              "      <td>sad</td>\n",
              "      <td>তদন্ত করে লাভ কী ? কোন দিন কোন তদন্তের পর কিছ...</td>\n",
              "    </tr>\n",
              "    <tr>\n",
              "      <th>2</th>\n",
              "      <td>angry</td>\n",
              "      <td>দেশকি মধ্যম আয়ের দেশে রুপান্তর হচ্ছে নাকি মগে...</td>\n",
              "    </tr>\n",
              "    <tr>\n",
              "      <th>3</th>\n",
              "      <td>happy</td>\n",
              "      <td>আমি গর্বিত আমি মুসলিম। আমি সংগ্রামী। আমি যোদ্...</td>\n",
              "    </tr>\n",
              "    <tr>\n",
              "      <th>4</th>\n",
              "      <td>angry</td>\n",
              "      <td>রাতের বেলা আবার কিসের সকাল।</td>\n",
              "    </tr>\n",
              "    <tr>\n",
              "      <th>...</th>\n",
              "      <td>...</td>\n",
              "      <td>...</td>\n",
              "    </tr>\n",
              "    <tr>\n",
              "      <th>6309</th>\n",
              "      <td>surprise</td>\n",
              "      <td>ভারতে প্রতিদিন ১৮ টা রেপ কেইস এন্ট্রি হয়</td>\n",
              "    </tr>\n",
              "    <tr>\n",
              "      <th>6310</th>\n",
              "      <td>surprise</td>\n",
              "      <td>এই কি স্বাধীন দেশ</td>\n",
              "    </tr>\n",
              "    <tr>\n",
              "      <th>6311</th>\n",
              "      <td>sad</td>\n",
              "      <td>স্বাধীন দেশের নাগরিক হয়ে ও আজ আমরা পরাধীন।</td>\n",
              "    </tr>\n",
              "    <tr>\n",
              "      <th>6312</th>\n",
              "      <td>angry</td>\n",
              "      <td>চুদলাম দাদা পয়সা নাই</td>\n",
              "    </tr>\n",
              "    <tr>\n",
              "      <th>6313</th>\n",
              "      <td>sad</td>\n",
              "      <td>আমরা মানুষের মত হয়ে বাচতে চায়,পরাধীন হয়ে নয়</td>\n",
              "    </tr>\n",
              "  </tbody>\n",
              "</table>\n",
              "<p>6314 rows × 2 columns</p>\n",
              "</div>\n",
              "      <button class=\"colab-df-convert\" onclick=\"convertToInteractive('df-2f0f9dfc-33f4-4a5b-bb3b-9c3aab301473')\"\n",
              "              title=\"Convert this dataframe to an interactive table.\"\n",
              "              style=\"display:none;\">\n",
              "        \n",
              "  <svg xmlns=\"http://www.w3.org/2000/svg\" height=\"24px\"viewBox=\"0 0 24 24\"\n",
              "       width=\"24px\">\n",
              "    <path d=\"M0 0h24v24H0V0z\" fill=\"none\"/>\n",
              "    <path d=\"M18.56 5.44l.94 2.06.94-2.06 2.06-.94-2.06-.94-.94-2.06-.94 2.06-2.06.94zm-11 1L8.5 8.5l.94-2.06 2.06-.94-2.06-.94L8.5 2.5l-.94 2.06-2.06.94zm10 10l.94 2.06.94-2.06 2.06-.94-2.06-.94-.94-2.06-.94 2.06-2.06.94z\"/><path d=\"M17.41 7.96l-1.37-1.37c-.4-.4-.92-.59-1.43-.59-.52 0-1.04.2-1.43.59L10.3 9.45l-7.72 7.72c-.78.78-.78 2.05 0 2.83L4 21.41c.39.39.9.59 1.41.59.51 0 1.02-.2 1.41-.59l7.78-7.78 2.81-2.81c.8-.78.8-2.07 0-2.86zM5.41 20L4 18.59l7.72-7.72 1.47 1.35L5.41 20z\"/>\n",
              "  </svg>\n",
              "      </button>\n",
              "      \n",
              "  <style>\n",
              "    .colab-df-container {\n",
              "      display:flex;\n",
              "      flex-wrap:wrap;\n",
              "      gap: 12px;\n",
              "    }\n",
              "\n",
              "    .colab-df-convert {\n",
              "      background-color: #E8F0FE;\n",
              "      border: none;\n",
              "      border-radius: 50%;\n",
              "      cursor: pointer;\n",
              "      display: none;\n",
              "      fill: #1967D2;\n",
              "      height: 32px;\n",
              "      padding: 0 0 0 0;\n",
              "      width: 32px;\n",
              "    }\n",
              "\n",
              "    .colab-df-convert:hover {\n",
              "      background-color: #E2EBFA;\n",
              "      box-shadow: 0px 1px 2px rgba(60, 64, 67, 0.3), 0px 1px 3px 1px rgba(60, 64, 67, 0.15);\n",
              "      fill: #174EA6;\n",
              "    }\n",
              "\n",
              "    [theme=dark] .colab-df-convert {\n",
              "      background-color: #3B4455;\n",
              "      fill: #D2E3FC;\n",
              "    }\n",
              "\n",
              "    [theme=dark] .colab-df-convert:hover {\n",
              "      background-color: #434B5C;\n",
              "      box-shadow: 0px 1px 3px 1px rgba(0, 0, 0, 0.15);\n",
              "      filter: drop-shadow(0px 1px 2px rgba(0, 0, 0, 0.3));\n",
              "      fill: #FFFFFF;\n",
              "    }\n",
              "  </style>\n",
              "\n",
              "      <script>\n",
              "        const buttonEl =\n",
              "          document.querySelector('#df-2f0f9dfc-33f4-4a5b-bb3b-9c3aab301473 button.colab-df-convert');\n",
              "        buttonEl.style.display =\n",
              "          google.colab.kernel.accessAllowed ? 'block' : 'none';\n",
              "\n",
              "        async function convertToInteractive(key) {\n",
              "          const element = document.querySelector('#df-2f0f9dfc-33f4-4a5b-bb3b-9c3aab301473');\n",
              "          const dataTable =\n",
              "            await google.colab.kernel.invokeFunction('convertToInteractive',\n",
              "                                                     [key], {});\n",
              "          if (!dataTable) return;\n",
              "\n",
              "          const docLinkHtml = 'Like what you see? Visit the ' +\n",
              "            '<a target=\"_blank\" href=https://colab.research.google.com/notebooks/data_table.ipynb>data table notebook</a>'\n",
              "            + ' to learn more about interactive tables.';\n",
              "          element.innerHTML = '';\n",
              "          dataTable['output_type'] = 'display_data';\n",
              "          await google.colab.output.renderOutput(dataTable, element);\n",
              "          const docLink = document.createElement('div');\n",
              "          docLink.innerHTML = docLinkHtml;\n",
              "          element.appendChild(docLink);\n",
              "        }\n",
              "      </script>\n",
              "    </div>\n",
              "  </div>\n",
              "  "
            ],
            "text/plain": [
              "         label                                            comment\n",
              "0          sad   বরাবর, মাননীয় প্রধানমন্ত্রী গণপ্রজাতন্ত্রী ব...\n",
              "1          sad   তদন্ত করে লাভ কী ? কোন দিন কোন তদন্তের পর কিছ...\n",
              "2        angry   দেশকি মধ্যম আয়ের দেশে রুপান্তর হচ্ছে নাকি মগে...\n",
              "3        happy   আমি গর্বিত আমি মুসলিম। আমি সংগ্রামী। আমি যোদ্...\n",
              "4        angry                        রাতের বেলা আবার কিসের সকাল।\n",
              "...        ...                                                ...\n",
              "6309  surprise           ভারতে প্রতিদিন ১৮ টা রেপ কেইস এন্ট্রি হয়\n",
              "6310  surprise                                  এই কি স্বাধীন দেশ\n",
              "6311       sad         স্বাধীন দেশের নাগরিক হয়ে ও আজ আমরা পরাধীন।\n",
              "6312     angry                               চুদলাম দাদা পয়সা নাই\n",
              "6313       sad        আমরা মানুষের মত হয়ে বাচতে চায়,পরাধীন হয়ে নয়\n",
              "\n",
              "[6314 rows x 2 columns]"
            ]
          },
          "execution_count": 9,
          "metadata": {},
          "output_type": "execute_result"
        }
      ],
      "source": [
        "df"
      ]
    },
    {
      "cell_type": "code",
      "execution_count": null,
      "metadata": {
        "colab": {
          "base_uri": "https://localhost:8080/"
        },
        "id": "x4jPdALAylx9",
        "outputId": "7de9849f-5aa4-46ba-d92c-e57e4cad5f42"
      },
      "outputs": [
        {
          "data": {
            "text/plain": [
              "happy       1908\n",
              "angry       1416\n",
              "sad         1341\n",
              "disgust      703\n",
              "surprise     562\n",
              "fear         384\n",
              "Name: label, dtype: int64"
            ]
          },
          "execution_count": 10,
          "metadata": {},
          "output_type": "execute_result"
        }
      ],
      "source": [
        "df['label'].value_counts()"
      ]
    },
    {
      "cell_type": "code",
      "execution_count": null,
      "metadata": {
        "colab": {
          "base_uri": "https://localhost:8080/",
          "height": 265
        },
        "id": "ozO5MUAEy0eW",
        "outputId": "4cd0d60b-61f7-4aec-9425-0c6eae37aff1"
      },
      "outputs": [
        {
          "data": {
            "text/plain": [
              "<matplotlib.axes._subplots.AxesSubplot at 0x7fe253a054d0>"
            ]
          },
          "execution_count": 11,
          "metadata": {},
          "output_type": "execute_result"
        },
        {
          "data": {
            "image/png": "[encoded data removed]",
            "text/plain": [
              "<Figure size 432x288 with 1 Axes>"
            ]
          },
          "metadata": {},
          "output_type": "display_data"
        }
      ],
      "source": [
        "import matplotlib.pyplot as plt\n",
        "df['label'].value_counts().plot(kind='pie')"
      ]
    },
    {
      "cell_type": "code",
      "execution_count": null,
      "metadata": {
        "colab": {
          "base_uri": "https://localhost:8080/"
        },
        "id": "YQvKnG280Pbp",
        "outputId": "caff7416-2fad-470b-eaf4-77066a609537"
      },
      "outputs": [
        {
          "data": {
            "text/plain": [
              "0    1908\n",
              "2    1416\n",
              "1    1341\n",
              "3     703\n",
              "4     562\n",
              "5     384\n",
              "Name: label, dtype: int64"
            ]
          },
          "execution_count": 12,
          "metadata": {},
          "output_type": "execute_result"
        }
      ],
      "source": [
        "df[\"label\"] = df[\"label\"].replace(\"sad\",1)\n",
        "df[\"label\"] = df[\"label\"].replace(\"happy\",0)\n",
        "df[\"label\"] = df[\"label\"].replace(\"angry\",2)\n",
        "df[\"label\"] = df[\"label\"].replace(\"disgust\",3)\n",
        "df[\"label\"] = df[\"label\"].replace(\"surprise\",4)\n",
        "df[\"label\"] = df[\"label\"].replace(\"fear\",5)\n",
        "\n",
        "df[\"label\"].value_counts()"
      ]
    },
    {
      "cell_type": "code",
      "execution_count": null,
      "metadata": {
        "colab": {
          "base_uri": "https://localhost:8080/",
          "height": 424
        },
        "id": "hSy8ayN5vlMg",
        "outputId": "a033e8f7-ad3b-436d-bcfc-43fdba2659e2"
      },
      "outputs": [
        {
          "data": {
            "text/html": [
              "\n",
              "  <div id=\"df-541db85f-b599-4042-980b-1a6356426fb3\">\n",
              "    <div class=\"colab-df-container\">\n",
              "      <div>\n",
              "<style scoped>\n",
              "    .dataframe tbody tr th:only-of-type {\n",
              "        vertical-align: middle;\n",
              "    }\n",
              "\n",
              "    .dataframe tbody tr th {\n",
              "        vertical-align: top;\n",
              "    }\n",
              "\n",
              "    .dataframe thead th {\n",
              "        text-align: right;\n",
              "    }\n",
              "</style>\n",
              "<table border=\"1\" class=\"dataframe\">\n",
              "  <thead>\n",
              "    <tr style=\"text-align: right;\">\n",
              "      <th></th>\n",
              "      <th>label</th>\n",
              "      <th>comment</th>\n",
              "    </tr>\n",
              "  </thead>\n",
              "  <tbody>\n",
              "    <tr>\n",
              "      <th>0</th>\n",
              "      <td>1</td>\n",
              "      <td>বরাবর, মাননীয় প্রধানমন্ত্রী গণপ্রজাতন্ত্রী ব...</td>\n",
              "    </tr>\n",
              "    <tr>\n",
              "      <th>1</th>\n",
              "      <td>1</td>\n",
              "      <td>তদন্ত করে লাভ কী ? কোন দিন কোন তদন্তের পর কিছ...</td>\n",
              "    </tr>\n",
              "    <tr>\n",
              "      <th>2</th>\n",
              "      <td>2</td>\n",
              "      <td>দেশকি মধ্যম আয়ের দেশে রুপান্তর হচ্ছে নাকি মগে...</td>\n",
              "    </tr>\n",
              "    <tr>\n",
              "      <th>3</th>\n",
              "      <td>0</td>\n",
              "      <td>আমি গর্বিত আমি মুসলিম। আমি সংগ্রামী। আমি যোদ্...</td>\n",
              "    </tr>\n",
              "    <tr>\n",
              "      <th>4</th>\n",
              "      <td>2</td>\n",
              "      <td>রাতের বেলা আবার কিসের সকাল।</td>\n",
              "    </tr>\n",
              "    <tr>\n",
              "      <th>...</th>\n",
              "      <td>...</td>\n",
              "      <td>...</td>\n",
              "    </tr>\n",
              "    <tr>\n",
              "      <th>6309</th>\n",
              "      <td>4</td>\n",
              "      <td>ভারতে প্রতিদিন ১৮ টা রেপ কেইস এন্ট্রি হয়</td>\n",
              "    </tr>\n",
              "    <tr>\n",
              "      <th>6310</th>\n",
              "      <td>4</td>\n",
              "      <td>এই কি স্বাধীন দেশ</td>\n",
              "    </tr>\n",
              "    <tr>\n",
              "      <th>6311</th>\n",
              "      <td>1</td>\n",
              "      <td>স্বাধীন দেশের নাগরিক হয়ে ও আজ আমরা পরাধীন।</td>\n",
              "    </tr>\n",
              "    <tr>\n",
              "      <th>6312</th>\n",
              "      <td>2</td>\n",
              "      <td>চুদলাম দাদা পয়সা নাই</td>\n",
              "    </tr>\n",
              "    <tr>\n",
              "      <th>6313</th>\n",
              "      <td>1</td>\n",
              "      <td>আমরা মানুষের মত হয়ে বাচতে চায়,পরাধীন হয়ে নয়</td>\n",
              "    </tr>\n",
              "  </tbody>\n",
              "</table>\n",
              "<p>6314 rows × 2 columns</p>\n",
              "</div>\n",
              "      <button class=\"colab-df-convert\" onclick=\"convertToInteractive('df-541db85f-b599-4042-980b-1a6356426fb3')\"\n",
              "              title=\"Convert this dataframe to an interactive table.\"\n",
              "              style=\"display:none;\">\n",
              "        \n",
              "  <svg xmlns=\"http://www.w3.org/2000/svg\" height=\"24px\"viewBox=\"0 0 24 24\"\n",
              "       width=\"24px\">\n",
              "    <path d=\"M0 0h24v24H0V0z\" fill=\"none\"/>\n",
              "    <path d=\"M18.56 5.44l.94 2.06.94-2.06 2.06-.94-2.06-.94-.94-2.06-.94 2.06-2.06.94zm-11 1L8.5 8.5l.94-2.06 2.06-.94-2.06-.94L8.5 2.5l-.94 2.06-2.06.94zm10 10l.94 2.06.94-2.06 2.06-.94-2.06-.94-.94-2.06-.94 2.06-2.06.94z\"/><path d=\"M17.41 7.96l-1.37-1.37c-.4-.4-.92-.59-1.43-.59-.52 0-1.04.2-1.43.59L10.3 9.45l-7.72 7.72c-.78.78-.78 2.05 0 2.83L4 21.41c.39.39.9.59 1.41.59.51 0 1.02-.2 1.41-.59l7.78-7.78 2.81-2.81c.8-.78.8-2.07 0-2.86zM5.41 20L4 18.59l7.72-7.72 1.47 1.35L5.41 20z\"/>\n",
              "  </svg>\n",
              "      </button>\n",
              "      \n",
              "  <style>\n",
              "    .colab-df-container {\n",
              "      display:flex;\n",
              "      flex-wrap:wrap;\n",
              "      gap: 12px;\n",
              "    }\n",
              "\n",
              "    .colab-df-convert {\n",
              "      background-color: #E8F0FE;\n",
              "      border: none;\n",
              "      border-radius: 50%;\n",
              "      cursor: pointer;\n",
              "      display: none;\n",
              "      fill: #1967D2;\n",
              "      height: 32px;\n",
              "      padding: 0 0 0 0;\n",
              "      width: 32px;\n",
              "    }\n",
              "\n",
              "    .colab-df-convert:hover {\n",
              "      background-color: #E2EBFA;\n",
              "      box-shadow: 0px 1px 2px rgba(60, 64, 67, 0.3), 0px 1px 3px 1px rgba(60, 64, 67, 0.15);\n",
              "      fill: #174EA6;\n",
              "    }\n",
              "\n",
              "    [theme=dark] .colab-df-convert {\n",
              "      background-color: #3B4455;\n",
              "      fill: #D2E3FC;\n",
              "    }\n",
              "\n",
              "    [theme=dark] .colab-df-convert:hover {\n",
              "      background-color: #434B5C;\n",
              "      box-shadow: 0px 1px 3px 1px rgba(0, 0, 0, 0.15);\n",
              "      filter: drop-shadow(0px 1px 2px rgba(0, 0, 0, 0.3));\n",
              "      fill: #FFFFFF;\n",
              "    }\n",
              "  </style>\n",
              "\n",
              "      <script>\n",
              "        const buttonEl =\n",
              "          document.querySelector('#df-541db85f-b599-4042-980b-1a6356426fb3 button.colab-df-convert');\n",
              "        buttonEl.style.display =\n",
              "          google.colab.kernel.accessAllowed ? 'block' : 'none';\n",
              "\n",
              "        async function convertToInteractive(key) {\n",
              "          const element = document.querySelector('#df-541db85f-b599-4042-980b-1a6356426fb3');\n",
              "          const dataTable =\n",
              "            await google.colab.kernel.invokeFunction('convertToInteractive',\n",
              "                                                     [key], {});\n",
              "          if (!dataTable) return;\n",
              "\n",
              "          const docLinkHtml = 'Like what you see? Visit the ' +\n",
              "            '<a target=\"_blank\" href=https://colab.research.google.com/notebooks/data_table.ipynb>data table notebook</a>'\n",
              "            + ' to learn more about interactive tables.';\n",
              "          element.innerHTML = '';\n",
              "          dataTable['output_type'] = 'display_data';\n",
              "          await google.colab.output.renderOutput(dataTable, element);\n",
              "          const docLink = document.createElement('div');\n",
              "          docLink.innerHTML = docLinkHtml;\n",
              "          element.appendChild(docLink);\n",
              "        }\n",
              "      </script>\n",
              "    </div>\n",
              "  </div>\n",
              "  "
            ],
            "text/plain": [
              "      label                                            comment\n",
              "0         1   বরাবর, মাননীয় প্রধানমন্ত্রী গণপ্রজাতন্ত্রী ব...\n",
              "1         1   তদন্ত করে লাভ কী ? কোন দিন কোন তদন্তের পর কিছ...\n",
              "2         2   দেশকি মধ্যম আয়ের দেশে রুপান্তর হচ্ছে নাকি মগে...\n",
              "3         0   আমি গর্বিত আমি মুসলিম। আমি সংগ্রামী। আমি যোদ্...\n",
              "4         2                        রাতের বেলা আবার কিসের সকাল।\n",
              "...     ...                                                ...\n",
              "6309      4           ভারতে প্রতিদিন ১৮ টা রেপ কেইস এন্ট্রি হয়\n",
              "6310      4                                  এই কি স্বাধীন দেশ\n",
              "6311      1         স্বাধীন দেশের নাগরিক হয়ে ও আজ আমরা পরাধীন।\n",
              "6312      2                               চুদলাম দাদা পয়সা নাই\n",
              "6313      1        আমরা মানুষের মত হয়ে বাচতে চায়,পরাধীন হয়ে নয়\n",
              "\n",
              "[6314 rows x 2 columns]"
            ]
          },
          "execution_count": 13,
          "metadata": {},
          "output_type": "execute_result"
        }
      ],
      "source": [
        "df"
      ]
    },
    {
      "cell_type": "code",
      "execution_count": null,
      "metadata": {
        "colab": {
          "base_uri": "https://localhost:8080/"
        },
        "id": "R8Kl_4M7Ic-E",
        "outputId": "0e8d86b7-9e59-442f-87c9-ea3ba57c6c6f"
      },
      "outputs": [
        {
          "data": {
            "text/plain": [
              "(6314, 2)"
            ]
          },
          "execution_count": 14,
          "metadata": {},
          "output_type": "execute_result"
        }
      ],
      "source": [
        "df.shape"
      ]
    },
    {
      "cell_type": "code",
      "execution_count": null,
      "metadata": {
        "colab": {
          "base_uri": "https://localhost:8080/"
        },
        "id": "zIvYv3LgJFYj",
        "outputId": "e4d37f23-05c6-4c93-c259-5f173c98798a"
      },
      "outputs": [
        {
          "data": {
            "text/plain": [
              "label      0\n",
              "comment    0\n",
              "dtype: int64"
            ]
          },
          "execution_count": 15,
          "metadata": {},
          "output_type": "execute_result"
        }
      ],
      "source": [
        "df.isnull().sum()"
      ]
    },
    {
      "cell_type": "code",
      "execution_count": null,
      "metadata": {
        "colab": {
          "base_uri": "https://localhost:8080/"
        },
        "id": "7J4VyXOayLS9",
        "outputId": "fa13923f-7f9e-4733-ebca-163aa96e70f6"
      },
      "outputs": [
        {
          "name": "stdout",
          "output_type": "stream",
          "text": [
            "Found duplicate,Removing duplicate\n"
          ]
        }
      ],
      "source": [
        "if(df.duplicated().sum()>0):\n",
        "  print(\"Found duplicate,Removing duplicate\")\n",
        "  df = df.drop_duplicates(keep = 'first')"
      ]
    },
    {
      "cell_type": "code",
      "execution_count": null,
      "metadata": {
        "colab": {
          "base_uri": "https://localhost:8080/"
        },
        "id": "nBAZJAF4ycv2",
        "outputId": "a35c640e-db26-48e7-a793-dee0016bd3df"
      },
      "outputs": [
        {
          "data": {
            "text/plain": [
              "(6112, 2)"
            ]
          },
          "execution_count": 17,
          "metadata": {},
          "output_type": "execute_result"
        }
      ],
      "source": [
        "df.shape"
      ]
    },
    {
      "cell_type": "code",
      "execution_count": null,
      "metadata": {
        "id": "HC_CqOKCzD0u"
      },
      "outputs": [],
      "source": [
        "# Data cleaning function\n",
        "def process_comments(comment): \n",
        "    comment = re.sub('[^\\u0980-\\u09FF]',' ',str(comment)) #removing unnecessary punctuation\n",
        "    return comment"
      ]
    },
    {
      "cell_type": "code",
      "execution_count": null,
      "metadata": {
        "colab": {
          "base_uri": "https://localhost:8080/"
        },
        "id": "iluqYVHh1qr4",
        "outputId": "c01b44de-a442-4105-9570-f27126ed33c2"
      },
      "outputs": [
        {
          "name": "stdout",
          "output_type": "stream",
          "text": [
            "Original:\n",
            "  তদন্ত করে লাভ কী ? কোন দিন কোন তদন্তের পর কিছু হয়েছে বলে কী আপনার মন পরে ? রাজনৈতিক শক্তির সামনে তদন্ত কিছুই করতে পারবে না ! আর তাই আমাদের সামান্য মাথাব্যাথা, পেট ব্যাথা হলে বা কলে পরিস্কার পানি না পেলে, সঠিক বিচার না পেলে আমরা আমাদের মাননীয় প্রধামন্ত্রীর দৃস্টি আর্কষন করে থাকি ! কিন্তু সকল দায়িত্ব কী তার একা ? তিনিই বা কেন লাথি দিয়ে এদের বহিস্কার করতে পারে না ? \n",
            "Cleaned:\n",
            "  তদন্ত করে লাভ কী   কোন দিন কোন তদন্তের পর কিছু হয়েছে বলে কী আপনার মন পরে   রাজনৈতিক শক্তির সামনে তদন্ত কিছুই করতে পারবে না   আর তাই আমাদের সামান্য মাথাব্যাথা  পেট ব্যাথা হলে বা কলে পরিস্কার পানি না পেলে  সঠিক বিচার না পেলে আমরা আমাদের মাননীয় প্রধামন্ত্রীর দৃস্টি আর্কষন করে থাকি   কিন্তু সকল দায়িত্ব কী তার একা   তিনিই বা কেন লাথি দিয়ে এদের বহিস্কার করতে পারে না   \n",
            " Sentiment:--  1 \n",
            "\n",
            "Original:\n",
            "  কোথা হতে এল পহেলা বৈশাখ? \n",
            "Cleaned:\n",
            "  কোথা হতে এল পহেলা বৈশাখ  \n",
            " Sentiment:--  4 \n",
            "\n",
            "Original:\n",
            "  ঘাতকদের দৃষ্টান্ত মূলক শাষ্টি চাই.... (১) ফাঁসি (২) লিঙ্গ পরির্বতন করে হিজড়া বানিয়ে পতিতালয়ে ভর্তি করা হোক \n",
            "Cleaned:\n",
            "  ঘাতকদের দৃষ্টান্ত মূলক শাষ্টি চাই      ১  ফাঁসি  ২  লিঙ্গ পরির্বতন করে হিজড়া বানিয়ে পতিতালয়ে ভর্তি করা হোক \n",
            " Sentiment:--  2 \n",
            "\n",
            "Original:\n",
            "  ইন্না----ওইন্নাইলাহিরাজিউন।আল্লাহ উনাকে জান্নাত দানকরুক।আমার প্রিয় একজন। \n",
            "Cleaned:\n",
            "  ইন্না    ওইন্নাইলাহিরাজিউন আল্লাহ উনাকে জান্নাত দানকরুক আমার প্রিয় একজন  \n",
            " Sentiment:--  1 \n",
            "\n",
            "Original:\n",
            "  দুরনিতির পয়াসা আদায় করে এই শিক্খকদের টাকা দেয়া হউক \n",
            "Cleaned:\n",
            "  দুরনিতির পয়াসা আদায় করে এই শিক্খকদের টাকা দেয়া হউক \n",
            " Sentiment:--  2 \n",
            "\n",
            "Original:\n",
            "  দেশ ঠিক পথেই হাঁটছে, তোরা নাস্তিকরাই উল্টো পথে হাঁটছিস। \n",
            "Cleaned:\n",
            "  দেশ ঠিক পথেই হাঁটছে  তোরা নাস্তিকরাই উল্টো পথে হাঁটছিস  \n",
            " Sentiment:--  3 \n",
            "\n",
            "Original:\n",
            "  অনেক ভয় এ আছি। আপনাদের না জানি কোনদিন বদলি করে দেয়। সবগুলা কুকুর এর জন্ম। এভাবেই বোর্ডিং গেট এ ছিন্তাই করে। ওদের ছবি প্রকাশ করেন। দেখবেন পুব্লিচ এ রাস্তায় পিটায় মেরে ফেলবে। \n",
            "Cleaned:\n",
            "  অনেক ভয় এ আছি  আপনাদের না জানি কোনদিন বদলি করে দেয়  সবগুলা কুকুর এর জন্ম  এভাবেই বোর্ডিং গেট এ ছিন্তাই করে  ওদের ছবি প্রকাশ করেন  দেখবেন পুব্লিচ এ রাস্তায় পিটায় মেরে ফেলবে  \n",
            " Sentiment:--  5 \n",
            "\n",
            "Original:\n",
            "  নিজেকে পরিবরতন করুন \n",
            "Cleaned:\n",
            "  নিজেকে পরিবরতন করুন \n",
            " Sentiment:--  0 \n",
            "\n",
            "Original:\n",
            "  আমার দেশ, এ ধরণ সেবা অসম্ভব মনে হত, যতই দেখছি ততই অবাক হচ্ছি। শুধু ধন্যবাদ,প্রশংসা নয়,নিশ্চয় আল্লাহ সম্মানিত করবেন। হাজার সালাম ও দোআ রহিল। \n",
            "Cleaned:\n",
            "  আমার দেশ  এ ধরণ সেবা অসম্ভব মনে হত  যতই দেখছি ততই অবাক হচ্ছি  শুধু ধন্যবাদ প্রশংসা নয় নিশ্চয় আল্লাহ সম্মানিত করবেন  হাজার সালাম ও দোআ রহিল  \n",
            " Sentiment:--  0 \n",
            "\n",
            "Original:\n",
            "  আপনাদের ধন্যবাদ দিয়ে ছোট করতে চাই না। আল্লাহ্ যেন এসব চোরদের ধরার শক্তি সাহস দেন। \n",
            "Cleaned:\n",
            "  আপনাদের ধন্যবাদ দিয়ে ছোট করতে চাই না  আল্লাহ্ যেন এসব চোরদের ধরার শক্তি সাহস দেন  \n",
            " Sentiment:--  0 \n",
            "\n",
            "Original:\n",
            "  না লাগে না।কারন যখন ভারতে শত শত মুসলিমকে অত্যাচার করেছে,মসজিদ ভাংচুর করেছে তখন কোথায় ছিল মানবতা কোথায় ছিল আপনাদের অনূভুতি??? \n",
            "Cleaned:\n",
            "  না লাগে না কারন যখন ভারতে শত শত মুসলিমকে অত্যাচার করেছে মসজিদ ভাংচুর করেছে তখন কোথায় ছিল মানবতা কোথায় ছিল আপনাদের অনূভুতি    \n",
            " Sentiment:--  3 \n",
            "\n",
            "Original:\n",
            "  মুসলিমরা ভেঙেছে? না অন্য ধ্ররমের কেউ ভেঙেছে জানলেন কিভাবে? \n",
            "Cleaned:\n",
            "  মুসলিমরা ভেঙেছে  না অন্য ধ্ররমের কেউ ভেঙেছে জানলেন কিভাবে  \n",
            " Sentiment:--  2 \n",
            "\n",
            "Original:\n",
            "  প্রথম কথা হলো বাংলা নববর্ষ পালনের সাথে হিন্দুস্থানের সম্পর্ক কি? হিন্দুস্থানে কি বাংলা নববর্ষ পালিত হয়? বাংলাদেশ টা কষ্টে অর্জিত সত্যি কথা।এই কষ্টটা বাংলার হিন্দু, মুসলিম,বৌদ্ধ,খৃষ্টান সবাই করেছিল।কিন্তু আজ কি হচ্ছে প্রতিদিন কোথাও না কোথাও ধর্মীয় সংখ্যালগুদের নির্যাতন করা হচ্ছে,তাদের মন্দিরে প্রতিনয়ত হামলা হচ্ছে।তুমি চাইলে প্রতিদিনের নিউজ লিংক দিব।তার কোনটার বিচার হচ্ছে?বরং তোমার মতো যারা মডারেট, এসব নিউজ শেয়ার করলে আমরা হয়ে যাই সাম্প্রদায়িক। ৭% আছি আরতো মাত্র কয়েকটা বছর ধর্মীয় সংখ্যালগু এদেশে হারিকেন দিয়ে খুজেও পাবে না।বিবিসি র নিউজ দেখ কারা কি করতে চাচ্ছে? ধর্মীয় সংখ্যালগু শেষ হলে মডারেট দের পালা। \n",
            "Cleaned:\n",
            "  প্রথম কথা হলো বাংলা নববর্ষ পালনের সাথে হিন্দুস্থানের সম্পর্ক কি  হিন্দুস্থানে কি বাংলা নববর্ষ পালিত হয়  বাংলাদেশ টা কষ্টে অর্জিত সত্যি কথা এই কষ্টটা বাংলার হিন্দু  মুসলিম বৌদ্ধ খৃষ্টান সবাই করেছিল কিন্তু আজ কি হচ্ছে প্রতিদিন কোথাও না কোথাও ধর্মীয় সংখ্যালগুদের নির্যাতন করা হচ্ছে তাদের মন্দিরে প্রতিনয়ত হামলা হচ্ছে তুমি চাইলে প্রতিদিনের নিউজ লিংক দিব তার কোনটার বিচার হচ্ছে বরং তোমার মতো যারা মডারেট  এসব নিউজ শেয়ার করলে আমরা হয়ে যাই সাম্প্রদায়িক  ৭  আছি আরতো মাত্র কয়েকটা বছর ধর্মীয় সংখ্যালগু এদেশে হারিকেন দিয়ে খুজেও পাবে না বিবিসি র নিউজ দেখ কারা কি করতে চাচ্ছে  ধর্মীয় সংখ্যালগু শেষ হলে মডারেট দের পালা  \n",
            " Sentiment:--  1 \n",
            "\n",
            "Original:\n",
            "  তুমি যে কতবড় ' বকধার্মিক ' তা তুমি নিজেও জানো \n",
            "Cleaned:\n",
            "  তুমি যে কতবড়   বকধার্মিক   তা তুমি নিজেও জানো \n",
            " Sentiment:--  3 \n",
            "\n",
            "Original:\n",
            "  পেয়েছে ভাই তাতে দুঃখ নাই  \n",
            "Cleaned:\n",
            "  পেয়েছে ভাই তাতে দুঃখ নাই  \n",
            " Sentiment:--  0 \n",
            "\n"
          ]
        },
        {
          "name": "stderr",
          "output_type": "stream",
          "text": [
            "/usr/local/lib/python3.7/dist-packages/ipykernel_launcher.py:2: SettingWithCopyWarning: \n",
            "A value is trying to be set on a copy of a slice from a DataFrame.\n",
            "Try using .loc[row_indexer,col_indexer] = value instead\n",
            "\n",
            "See the caveats in the documentation: https://pandas.pydata.org/pandas-docs/stable/user_guide/indexing.html#returning-a-view-versus-a-copy\n",
            "  \n"
          ]
        }
      ],
      "source": [
        "# Apply the function into the dataframe\n",
        "df['cleaned'] = df['comment'].apply(process_comments)  \n",
        "\n",
        "# print some cleaned reviews from the dataset\n",
        "sample_data = [1,100,252,554,876,1000,1289,1550,2120,2500,4000,4500,5000,5500,6000]\n",
        "for i in sample_data:\n",
        "     print('Original:\\n',df.comment[i],'\\nCleaned:\\n',\n",
        "           df.cleaned[i],'\\n','Sentiment:-- ',df.label[i],'\\n')"
      ]
    },
    {
      "cell_type": "code",
      "execution_count": null,
      "metadata": {
        "colab": {
          "base_uri": "https://localhost:8080/"
        },
        "id": "lC4W3FFK4Ruw",
        "outputId": "d08aa31e-4a1a-449f-eb76-2aa3d16f1505"
      },
      "outputs": [
        {
          "name": "stdout",
          "output_type": "stream",
          "text": [
            "[nltk_data] Downloading package stopwords to /root/nltk_data...\n",
            "[nltk_data]   Package stopwords is already up-to-date!\n"
          ]
        },
        {
          "name": "stderr",
          "output_type": "stream",
          "text": [
            "/usr/local/lib/python3.7/dist-packages/ipykernel_launcher.py:5: SettingWithCopyWarning: \n",
            "A value is trying to be set on a copy of a slice from a DataFrame.\n",
            "Try using .loc[row_indexer,col_indexer] = value instead\n",
            "\n",
            "See the caveats in the documentation: https://pandas.pydata.org/pandas-docs/stable/user_guide/indexing.html#returning-a-view-versus-a-copy\n",
            "  \"\"\"\n"
          ]
        }
      ],
      "source": [
        "import nltk\n",
        "nltk.download('stopwords')\n",
        "from nltk.corpus import stopwords\n",
        "stop_words = stopwords.words('bengali')\n",
        "df['cleaned'] = df['cleaned'].apply(lambda x: ' '.join([word for word in x.split() if word not in (stop_words)]))"
      ]
    },
    {
      "cell_type": "code",
      "execution_count": null,
      "metadata": {
        "colab": {
          "base_uri": "https://localhost:8080/"
        },
        "id": "Ms2IB-OD2uk4",
        "outputId": "c9d32790-b819-452f-af2b-7bcbe2f33a9a"
      },
      "outputs": [
        {
          "name": "stdout",
          "output_type": "stream",
          "text": [
            "\n",
            "Class Name :  0\n",
            "Number of Documents:1802\n",
            "Number of Words:15436\n",
            "Number of Unique Words:5502\n",
            "Most Frequent Words:\n",
            "\n",
            "ধন্যবাদ\t348\n",
            "ভাই\t246\n",
            "আপনাদের\t193\n",
            "ভাল\t165\n",
            "পুলিশ\t161\n",
            "সাথে\t124\n",
            "ভালো\t102\n",
            "কথা\t101\n",
            "আপনাকে\t99\n",
            "ইমরান\t97\n",
            "\n",
            "Class Name :  2\n",
            "Number of Documents:1372\n",
            "Number of Words:12702\n",
            "Number of Unique Words:5725\n",
            "Most Frequent Words:\n",
            "\n",
            "ইমরান\t107\n",
            "তুই\t88\n",
            "ভাই\t85\n",
            "তোর\t75\n",
            "কথা\t75\n",
            "বিচার\t72\n",
            "একটা\t70\n",
            "মানুষ\t65\n",
            "চাই\t62\n",
            "হয়ে\t53\n",
            "\n",
            "Class Name :  1\n",
            "Number of Documents:1304\n",
            "Number of Words:16941\n",
            "Number of Unique Words:6669\n",
            "Most Frequent Words:\n",
            "\n",
            "ভাই\t132\n",
            "বিচার\t114\n",
            "কথা\t112\n",
            "ইসলাম\t100\n",
            "দেশে\t86\n",
            "মানুষ\t86\n",
            "হয়ে\t75\n",
            "সরকার\t65\n",
            "মা\t64\n",
            "একটা\t62\n",
            "\n",
            "Class Name :  3\n",
            "Number of Documents:695\n",
            "Number of Words:7343\n",
            "Number of Unique Words:3802\n",
            "Most Frequent Words:\n",
            "\n",
            "ভাই\t55\n",
            "মানুষ\t51\n",
            "কথা\t46\n",
            "ইমরান\t44\n",
            "সরকার\t35\n",
            "যায়\t33\n",
            "একটা\t33\n",
            "সাথে\t29\n",
            "মা\t29\n",
            "বড়\t28\n",
            "\n",
            "Class Name :  4\n",
            "Number of Documents:557\n",
            "Number of Words:6596\n",
            "Number of Unique Words:3491\n",
            "Most Frequent Words:\n",
            "\n",
            "ভাই\t54\n",
            "কথা\t49\n",
            "মানুষ\t33\n",
            "বিচার\t33\n",
            "একটা\t32\n",
            "তনু\t31\n",
            "টাকা\t30\n",
            "সাথে\t27\n",
            "দিয়ে\t25\n",
            "ইমরান\t24\n",
            "\n",
            "Class Name :  5\n",
            "Number of Documents:382\n",
            "Number of Words:4792\n",
            "Number of Unique Words:2777\n",
            "Most Frequent Words:\n",
            "\n",
            "ভাই\t38\n",
            "ভয়\t30\n",
            "একটা\t28\n",
            "বিচার\t27\n",
            "আপনাদের\t22\n",
            "মানুষ\t21\n",
            "দিয়ে\t20\n",
            "কথা\t19\n",
            "সিম\t18\n",
            "ইমরান\t18\n",
            "Total Number of Unique Words:16458\n"
          ]
        }
      ],
      "source": [
        "def data_summary(dataset):\n",
        "    \n",
        "    \"\"\"\n",
        "    This function will print the summary of the reviews and words distribution in the dataset. \n",
        "    \n",
        "    Args:\n",
        "        dataset: list of cleaned sentences   \n",
        "        \n",
        "    Returns:\n",
        "        Number of documnets per class: int \n",
        "        Number of words per class: int\n",
        "        Number of unique words per class: int\n",
        "    \"\"\"\n",
        "    documents = []\n",
        "    words = []\n",
        "    u_words = []\n",
        "    total_u_words = [word.strip().lower() for t in list(dataset.cleaned) for word in t.strip().split()]\n",
        "    class_label= [k for k,v in dataset.label.value_counts().to_dict().items()]\n",
        "  # find word list\n",
        "    for label in class_label: \n",
        "        word_list = [word.strip().lower() for t in list(dataset[dataset.label==label].cleaned) for word in t.strip().split()]\n",
        "        counts = dict()\n",
        "        for word in word_list:\n",
        "                counts[word] = counts.get(word, 0)+1\n",
        "        # sort the dictionary of word list  \n",
        "        ordered = sorted(counts.items(), key= lambda item: item[1],reverse = True)\n",
        "        # Documents per class\n",
        "        documents.append(len(list(dataset[dataset.label==label].cleaned)))\n",
        "        # Total Word per class\n",
        "        words.append(len(word_list))\n",
        "        # Unique words per class \n",
        "        u_words.append(len(np.unique(word_list)))\n",
        "       \n",
        "        print(\"\\nClass Name : \",label)\n",
        "        print(\"Number of Documents:{}\".format(len(list(dataset[dataset.label==label].cleaned))))  \n",
        "        print(\"Number of Words:{}\".format(len(word_list))) \n",
        "        print(\"Number of Unique Words:{}\".format(len(np.unique(word_list)))) \n",
        "        print(\"Most Frequent Words:\\n\")\n",
        "        for k,v in ordered[:10]:\n",
        "              print(\"{}\\t{}\".format(k,v))\n",
        "    print(\"Total Number of Unique Words:{}\".format(len(np.unique(total_u_words))))           \n",
        "   \n",
        "    return documents,words,u_words,class_label\n",
        "\n",
        "#call the fucntion\n",
        "documents,words,u_words,class_names = data_summary(df)"
      ]
    },
    {
      "cell_type": "code",
      "execution_count": null,
      "metadata": {
        "id": "SeoG5k6-54PB"
      },
      "outputs": [],
      "source": [
        "# !pip list"
      ]
    },
    {
      "cell_type": "code",
      "execution_count": null,
      "metadata": {
        "id": "57NsDKlv55FB"
      },
      "outputs": [],
      "source": [
        "from tensorflow.keras.layers import TextVectorization"
      ]
    },
    {
      "cell_type": "code",
      "execution_count": null,
      "metadata": {
        "id": "Bvub2Bvt7u6a"
      },
      "outputs": [],
      "source": [
        "X = df['cleaned']\n",
        "y = df[df.columns[0]]"
      ]
    },
    {
      "cell_type": "markdown",
      "metadata": {
        "id": "ARLDSHvPlENP"
      },
      "source": [
        "# preeee"
      ]
    },
    {
      "cell_type": "code",
      "execution_count": null,
      "metadata": {
        "id": "T0-UCwHUlDpX"
      },
      "outputs": [],
      "source": [
        "vocab_size = 20000\n",
        "embedding_dim = 32\n",
        "max_length = 2000\n",
        "trunc_type='post'\n",
        "oov_tok = \"<OOV>\""
      ]
    },
    {
      "cell_type": "code",
      "execution_count": null,
      "metadata": {
        "id": "UFRUmKFSlM-L"
      },
      "outputs": [],
      "source": [
        "vectorizer = TextVectorization(max_tokens=vocab_size,\n",
        "                               output_sequence_length=max_length,\n",
        "                               output_mode='int')"
      ]
    },
    {
      "cell_type": "code",
      "execution_count": null,
      "metadata": {
        "id": "8xG3L2kklP7w"
      },
      "outputs": [],
      "source": [
        "vectorizer.adapt(X.values)"
      ]
    },
    {
      "cell_type": "code",
      "execution_count": null,
      "metadata": {
        "id": "5S9bm2HqlSCP"
      },
      "outputs": [],
      "source": [
        "vectorized_text = vectorizer(X.values)"
      ]
    },
    {
      "cell_type": "code",
      "execution_count": null,
      "metadata": {
        "id": "A-XRyoUNlUXO"
      },
      "outputs": [],
      "source": [
        "dataset = tf.data.Dataset.from_tensor_slices((vectorized_text, y))\n",
        "dataset = dataset.cache()\n",
        "dataset = dataset.shuffle(3000)\n",
        "dataset = dataset.batch(4)\n",
        "dataset = dataset.prefetch(2) # helps bottlenecks"
      ]
    },
    {
      "cell_type": "code",
      "execution_count": null,
      "metadata": {
        "id": "I1EewSh0lZ6w"
      },
      "outputs": [],
      "source": [
        "train = dataset.take(int(len(dataset)*.7))\n",
        "val = dataset.skip(int(len(dataset)*.7)).take(int(len(dataset)*.2))\n",
        "test = dataset.skip(int(len(dataset)*.9)).take(int(len(dataset)*.1))\n"
      ]
    },
    {
      "cell_type": "markdown",
      "metadata": {
        "id": "hpukTKWflboY"
      },
      "source": [
        "# new pre"
      ]
    },
    {
      "cell_type": "code",
      "execution_count": null,
      "metadata": {
        "colab": {
          "base_uri": "https://localhost:8080/"
        },
        "id": "7J6l4bDo8ShR",
        "outputId": "cf0172df-d019-43c5-870a-0aac6ab7d850"
      },
      "outputs": [
        {
          "name": "stdout",
          "output_type": "stream",
          "text": [
            "1432    ভারতের লাখ লাখ লোক বেলা ভাত খেতে নাটাকার অভাবে...\n",
            "6587        শেখ সেলিমের বাংলাদেশ লুটপাটের টাকা ইতাতো একটা\n",
            "928                                               বড় পাগল\n",
            "4586    বাংলাদেশের ইতিহাসে মার্চের মাহাত্ম্য অনুধাবন ন...\n",
            "148     পাগল গুলারে মন্ত্রী বানাইসে দেশ টা বাপেরযা খুস...\n",
            "                              ...                        \n",
            "4852    রাজারা রাজার হালেই গরীবেরা আরো গরীব এটাকে জানে...\n",
            "1196                 রাতের অন্ধকারের দিনের সুন্দর আলো আসে\n",
            "4805    সরকারকে অভিনন্দন দেশ অস্তিত্বর সিদ্ধান্ত বদল ছ...\n",
            "17                                 শুভেচ্ছা শুভকামনা রইলো\n",
            "1224              তৈমর সাহসী বীর সাহসী বীর প্রয়োজন সমাজের\n",
            "Name: cleaned, Length: 4989, dtype: object 2233                                       চোখে পানি গেলো\n",
            "4554                বুকের ভেতর হলুদ একটা পাতার দীর্ঘশ্বাস\n",
            "6183           অাইসিসির বিরুদ্ধে আন্তর্জাতিক আদালতে মামলা\n",
            "1184                      সরকার টাকা কিবাবে লুট একটা কউসল\n",
            "1102                        চোরের সাক্ষী মাতব্বরবুঝার কথা\n",
            "                              ...                        \n",
            "4832        মাদারচোদ এয় ফাঁসি উচিৎ একটা সংসার কেমনে চলবে\n",
            "12           বিসিএলে দুর্দান্ত লিটন শুভাগত জাতীয় দলে ছায়া\n",
            "1051    সুখবর সুখবর সুখবর এক সিমে নাম্বার আজই নিন বাংল...\n",
            "2626    আওয়ামী লীগ পুরাতন ভাষনটাকে বাজিয়ে খুশী শুনলে ই...\n",
            "2679                           মিয়ে কয়টা কয়টারে বিয়ে করমু\n",
            "Name: cleaned, Length: 997, dtype: object 6555    বাংলাদেশ জিতেছে খুশি হয়েছি মুস্তাফিজের উপস্থিত...\n",
            "926     ছেলে হয়েছে কারিনারআর মামা হয়েছেন প্রথমআলো ভাবট...\n",
            "6181      কথাটা শোয়েব বুঝতে পারল দাদা বাবুরা বুঝতে পারলনা\n",
            "742     দেশে বেকারত্ব কর্মস ংস্থানের নিরাপত্তা সরকারের...\n",
            "368     ভারতের ক্যরা পাধ দিলো নিয়া মাতামাতি কেনোদালার ...\n",
            "                              ...                        \n",
            "3849    মালের মাথার ছিড়ে জরুরী ভিত্তিতে মাথার সেটিং সা...\n",
            "6492                                       ভালোবাসার অভাব\n",
            "2779    ফহিন্নির ঘরের ফহিন্নি রেতোরা শোধরাবি নাবারবার ...\n",
            "1353                      তুই মরস কেনতুই বাংলাদেশির অপমান\n",
            "5673    আল্লাহ ফেরাউন যেভাবে পাকড়াও করেছিলেএদের চেয়েও ...\n",
            "Name: cleaned, Length: 666, dtype: object\n"
          ]
        }
      ],
      "source": [
        "train_ratio = 0.75\n",
        "validation_ratio = 0.15\n",
        "test_ratio = 0.10\n",
        "\n",
        "# train is now 75% of the entire data set\n",
        "# the _junk suffix means that we drop that variable completely\n",
        "x_train, x_test, y_train, y_test = train_test_split(X, y, test_size=1 - train_ratio)\n",
        "\n",
        "# test is now 10% of the initial data set\n",
        "# validation is now 15% of the initial data set\n",
        "x_val, x_test, y_val, y_test = train_test_split(x_test, y_test, test_size=test_ratio/(test_ratio + validation_ratio)) \n",
        "\n",
        "print(x_train, x_val, x_test)"
      ]
    },
    {
      "cell_type": "code",
      "execution_count": null,
      "metadata": {
        "colab": {
          "base_uri": "https://localhost:8080/"
        },
        "id": "-tmbNF9mS8vf",
        "outputId": "bbbd929d-395e-4e13-b076-34bb1039b732"
      },
      "outputs": [
        {
          "name": "stdout",
          "output_type": "stream",
          "text": [
            "(4989,)\n",
            "(4989,)\n"
          ]
        }
      ],
      "source": [
        "print(x_train.shape)\n",
        "print(y_train.shape)"
      ]
    },
    {
      "cell_type": "code",
      "execution_count": null,
      "metadata": {
        "id": "2L-Y-nlG74IZ"
      },
      "outputs": [],
      "source": [
        "\n",
        "vocab_size = 200000\n",
        "embedding_dim = 300\n",
        "max_length = 100\n",
        "trunc_type='post'\n",
        "oov_tok = \"<OOV>\""
      ]
    },
    {
      "cell_type": "code",
      "execution_count": null,
      "metadata": {
        "colab": {
          "base_uri": "https://localhost:8080/"
        },
        "id": "L9DOSgnzTUW3",
        "outputId": "378c8a37-682a-4dfc-d330-503a820f8076"
      },
      "outputs": [
        {
          "name": "stdout",
          "output_type": "stream",
          "text": [
            "17219\n",
            "Word index length:17219\n"
          ]
        }
      ],
      "source": [
        "tokenizer = Tokenizer(num_words = vocab_size, oov_token=oov_tok)\n",
        "tokenizer.fit_on_texts(x_train)\n",
        "word_index = tokenizer.word_index\n",
        "print(len(word_index))\n",
        "print(\"Word index length:\"+str(len(tokenizer.word_index)))\n",
        "sequences = tokenizer.texts_to_sequences(x_train)\n",
        "x_train = pad_sequences(sequences,maxlen=max_length, truncating=trunc_type)\n",
        "\n",
        "\n",
        "test_sequences = tokenizer.texts_to_sequences(x_test)\n",
        "x_test = pad_sequences(test_sequences,maxlen=max_length)"
      ]
    },
    {
      "cell_type": "code",
      "execution_count": null,
      "metadata": {
        "colab": {
          "base_uri": "https://localhost:8080/"
        },
        "id": "RKRJl5lAT-P7",
        "outputId": "ef693e05-3886-4a1f-a470-edd854b19b47"
      },
      "outputs": [
        {
          "name": "stdout",
          "output_type": "stream",
          "text": [
            "Padded shape(training): (4989, 100)\n",
            "Padded shape(testing): (666, 100)\n"
          ]
        }
      ],
      "source": [
        "print(\"Padded shape(training): \"+str(x_train.shape))\n",
        "print(\"Padded shape(testing): \"+str(x_test.shape))"
      ]
    },
    {
      "cell_type": "markdown",
      "metadata": {
        "id": "jl8P78bGlsmI"
      },
      "source": [
        "# model"
      ]
    },
    {
      "cell_type": "code",
      "execution_count": null,
      "metadata": {
        "id": "6WCsRq2B8zhK"
      },
      "outputs": [],
      "source": [
        "from tensorflow.keras.models import Sequential\n",
        "from tensorflow.keras.layers import LSTM, Dropout, Bidirectional, Dense, Embedding, Flatten, Activation\n",
        "from tensorflow.keras.preprocessing.text import one_hot"
      ]
    },
    {
      "cell_type": "code",
      "execution_count": null,
      "metadata": {
        "id": "9Umgkwj481v5"
      },
      "outputs": [],
      "source": [
        "model1=Sequential()\n",
        "model1.add(Embedding(vocab_size,embedding_dim,input_length=max_length))\n",
        "model1.add(Flatten())\n",
        "model1.add(Dense(512))\n",
        "model1.add(Activation('relu'))\n",
        "model1.add(Dropout(0.2))\n",
        "\n",
        "model1.add(Dense(512))\n",
        "model1.add(Activation('relu'))\n",
        "model1.add(Dropout(0.2))\n",
        "\n",
        "model1.add(Dense(256))\n",
        "model1.add(Activation('relu'))\n",
        "model1.add(Dropout(0.2))\n",
        "\n",
        "model1.add(Dense(128))\n",
        "model1.add(Activation('relu'))\n",
        "model1.add(Dropout(0.2))\n",
        "\n",
        "#final layer\n",
        "model1.add(Dense(1))\n",
        "model1.add(Activation('softmax'))\n",
        "\n",
        "model1.compile(loss='categorical_crossentropy',metrics=['accuracy'],optimizer='adam')"
      ]
    },
    {
      "cell_type": "code",
      "execution_count": null,
      "metadata": {
        "colab": {
          "base_uri": "https://localhost:8080/"
        },
        "id": "Mq8zo9R287Ar",
        "outputId": "6754f942-e044-4806-8dcc-dbc3a758b64b"
      },
      "outputs": [
        {
          "name": "stdout",
          "output_type": "stream",
          "text": [
            "Model: \"sequential\"\n",
            "_________________________________________________________________\n",
            " Layer (type)                Output Shape              Param #   \n",
            "=================================================================\n",
            " embedding (Embedding)       (None, 2000, 32)          640000    \n",
            "                                                                 \n",
            " flatten (Flatten)           (None, 64000)             0         \n",
            "                                                                 \n",
            " dense (Dense)               (None, 512)               32768512  \n",
            "                                                                 \n",
            " activation (Activation)     (None, 512)               0         \n",
            "                                                                 \n",
            " dropout (Dropout)           (None, 512)               0         \n",
            "                                                                 \n",
            " dense_1 (Dense)             (None, 512)               262656    \n",
            "                                                                 \n",
            " activation_1 (Activation)   (None, 512)               0         \n",
            "                                                                 \n",
            " dropout_1 (Dropout)         (None, 512)               0         \n",
            "                                                                 \n",
            " dense_2 (Dense)             (None, 256)               131328    \n",
            "                                                                 \n",
            " activation_2 (Activation)   (None, 256)               0         \n",
            "                                                                 \n",
            " dropout_2 (Dropout)         (None, 256)               0         \n",
            "                                                                 \n",
            " dense_3 (Dense)             (None, 128)               32896     \n",
            "                                                                 \n",
            " activation_3 (Activation)   (None, 128)               0         \n",
            "                                                                 \n",
            " dropout_3 (Dropout)         (None, 128)               0         \n",
            "                                                                 \n",
            " dense_4 (Dense)             (None, 1)                 129       \n",
            "                                                                 \n",
            " activation_4 (Activation)   (None, 1)                 0         \n",
            "                                                                 \n",
            "=================================================================\n",
            "Total params: 33,835,521\n",
            "Trainable params: 33,835,521\n",
            "Non-trainable params: 0\n",
            "_________________________________________________________________\n"
          ]
        }
      ],
      "source": [
        "model1.summary()"
      ]
    },
    {
      "cell_type": "code",
      "execution_count": null,
      "metadata": {
        "colab": {
          "base_uri": "https://localhost:8080/",
          "height": 328
        },
        "id": "ELXAZVXG84-A",
        "outputId": "f93f0e57-64f5-45ef-e422-cb36268ddf72"
      },
      "outputs": [
        {
          "name": "stdout",
          "output_type": "stream",
          "text": [
            " 250/1069 [======>.......................] - ETA: 7:31 - loss: 0.0000e+00 - accuracy: 0.2170"
          ]
        },
        {
          "ename": "KeyboardInterrupt",
          "evalue": "ignored",
          "output_type": "error",
          "traceback": [
            "\u001b[0;31m---------------------------------------------------------------------------\u001b[0m",
            "\u001b[0;31mKeyboardInterrupt\u001b[0m                         Traceback (most recent call last)",
            "\u001b[0;32m<ipython-input-34-e18b22f36578>\u001b[0m in \u001b[0;36m<module>\u001b[0;34m()\u001b[0m\n\u001b[0;32m----> 1\u001b[0;31m \u001b[0mhistory1\u001b[0m\u001b[0;34m=\u001b[0m\u001b[0mmodel1\u001b[0m\u001b[0;34m.\u001b[0m\u001b[0mfit\u001b[0m\u001b[0;34m(\u001b[0m\u001b[0mtrain\u001b[0m\u001b[0;34m,\u001b[0m\u001b[0mepochs\u001b[0m\u001b[0;34m=\u001b[0m\u001b[0;36m1\u001b[0m\u001b[0;34m,\u001b[0m\u001b[0mvalidation_data\u001b[0m\u001b[0;34m=\u001b[0m \u001b[0mval\u001b[0m\u001b[0;34m)\u001b[0m\u001b[0;34m\u001b[0m\u001b[0;34m\u001b[0m\u001b[0m\n\u001b[0m",
            "\u001b[0;32m/usr/local/lib/python3.7/dist-packages/keras/utils/traceback_utils.py\u001b[0m in \u001b[0;36merror_handler\u001b[0;34m(*args, **kwargs)\u001b[0m\n\u001b[1;32m     62\u001b[0m     \u001b[0mfiltered_tb\u001b[0m \u001b[0;34m=\u001b[0m \u001b[0;32mNone\u001b[0m\u001b[0;34m\u001b[0m\u001b[0;34m\u001b[0m\u001b[0m\n\u001b[1;32m     63\u001b[0m     \u001b[0;32mtry\u001b[0m\u001b[0;34m:\u001b[0m\u001b[0;34m\u001b[0m\u001b[0;34m\u001b[0m\u001b[0m\n\u001b[0;32m---> 64\u001b[0;31m       \u001b[0;32mreturn\u001b[0m \u001b[0mfn\u001b[0m\u001b[0;34m(\u001b[0m\u001b[0;34m*\u001b[0m\u001b[0margs\u001b[0m\u001b[0;34m,\u001b[0m \u001b[0;34m**\u001b[0m\u001b[0mkwargs\u001b[0m\u001b[0;34m)\u001b[0m\u001b[0;34m\u001b[0m\u001b[0;34m\u001b[0m\u001b[0m\n\u001b[0m\u001b[1;32m     65\u001b[0m     \u001b[0;32mexcept\u001b[0m \u001b[0mException\u001b[0m \u001b[0;32mas\u001b[0m \u001b[0me\u001b[0m\u001b[0;34m:\u001b[0m  \u001b[0;31m# pylint: disable=broad-except\u001b[0m\u001b[0;34m\u001b[0m\u001b[0;34m\u001b[0m\u001b[0m\n\u001b[1;32m     66\u001b[0m       \u001b[0mfiltered_tb\u001b[0m \u001b[0;34m=\u001b[0m \u001b[0m_process_traceback_frames\u001b[0m\u001b[0;34m(\u001b[0m\u001b[0me\u001b[0m\u001b[0;34m.\u001b[0m\u001b[0m__traceback__\u001b[0m\u001b[0;34m)\u001b[0m\u001b[0;34m\u001b[0m\u001b[0;34m\u001b[0m\u001b[0m\n",
            "\u001b[0;32m/usr/local/lib/python3.7/dist-packages/keras/engine/training.py\u001b[0m in \u001b[0;36mfit\u001b[0;34m(self, x, y, batch_size, epochs, verbose, callbacks, validation_split, validation_data, shuffle, class_weight, sample_weight, initial_epoch, steps_per_epoch, validation_steps, validation_batch_size, validation_freq, max_queue_size, workers, use_multiprocessing)\u001b[0m\n\u001b[1;32m   1382\u001b[0m                 _r=1):\n\u001b[1;32m   1383\u001b[0m               \u001b[0mcallbacks\u001b[0m\u001b[0;34m.\u001b[0m\u001b[0mon_train_batch_begin\u001b[0m\u001b[0;34m(\u001b[0m\u001b[0mstep\u001b[0m\u001b[0;34m)\u001b[0m\u001b[0;34m\u001b[0m\u001b[0;34m\u001b[0m\u001b[0m\n\u001b[0;32m-> 1384\u001b[0;31m               \u001b[0mtmp_logs\u001b[0m \u001b[0;34m=\u001b[0m \u001b[0mself\u001b[0m\u001b[0;34m.\u001b[0m\u001b[0mtrain_function\u001b[0m\u001b[0;34m(\u001b[0m\u001b[0miterator\u001b[0m\u001b[0;34m)\u001b[0m\u001b[0;34m\u001b[0m\u001b[0;34m\u001b[0m\u001b[0m\n\u001b[0m\u001b[1;32m   1385\u001b[0m               \u001b[0;32mif\u001b[0m \u001b[0mdata_handler\u001b[0m\u001b[0;34m.\u001b[0m\u001b[0mshould_sync\u001b[0m\u001b[0;34m:\u001b[0m\u001b[0;34m\u001b[0m\u001b[0;34m\u001b[0m\u001b[0m\n\u001b[1;32m   1386\u001b[0m                 \u001b[0mcontext\u001b[0m\u001b[0;34m.\u001b[0m\u001b[0masync_wait\u001b[0m\u001b[0;34m(\u001b[0m\u001b[0;34m)\u001b[0m\u001b[0;34m\u001b[0m\u001b[0;34m\u001b[0m\u001b[0m\n",
            "\u001b[0;32m/usr/local/lib/python3.7/dist-packages/tensorflow/python/util/traceback_utils.py\u001b[0m in \u001b[0;36merror_handler\u001b[0;34m(*args, **kwargs)\u001b[0m\n\u001b[1;32m    148\u001b[0m     \u001b[0mfiltered_tb\u001b[0m \u001b[0;34m=\u001b[0m \u001b[0;32mNone\u001b[0m\u001b[0;34m\u001b[0m\u001b[0;34m\u001b[0m\u001b[0m\n\u001b[1;32m    149\u001b[0m     \u001b[0;32mtry\u001b[0m\u001b[0;34m:\u001b[0m\u001b[0;34m\u001b[0m\u001b[0;34m\u001b[0m\u001b[0m\n\u001b[0;32m--> 150\u001b[0;31m       \u001b[0;32mreturn\u001b[0m \u001b[0mfn\u001b[0m\u001b[0;34m(\u001b[0m\u001b[0;34m*\u001b[0m\u001b[0margs\u001b[0m\u001b[0;34m,\u001b[0m \u001b[0;34m**\u001b[0m\u001b[0mkwargs\u001b[0m\u001b[0;34m)\u001b[0m\u001b[0;34m\u001b[0m\u001b[0;34m\u001b[0m\u001b[0m\n\u001b[0m\u001b[1;32m    151\u001b[0m     \u001b[0;32mexcept\u001b[0m \u001b[0mException\u001b[0m \u001b[0;32mas\u001b[0m \u001b[0me\u001b[0m\u001b[0;34m:\u001b[0m\u001b[0;34m\u001b[0m\u001b[0;34m\u001b[0m\u001b[0m\n\u001b[1;32m    152\u001b[0m       \u001b[0mfiltered_tb\u001b[0m \u001b[0;34m=\u001b[0m \u001b[0m_process_traceback_frames\u001b[0m\u001b[0;34m(\u001b[0m\u001b[0me\u001b[0m\u001b[0;34m.\u001b[0m\u001b[0m__traceback__\u001b[0m\u001b[0;34m)\u001b[0m\u001b[0;34m\u001b[0m\u001b[0;34m\u001b[0m\u001b[0m\n",
            "\u001b[0;32m/usr/local/lib/python3.7/dist-packages/tensorflow/python/eager/def_function.py\u001b[0m in \u001b[0;36m__call__\u001b[0;34m(self, *args, **kwds)\u001b[0m\n\u001b[1;32m    913\u001b[0m \u001b[0;34m\u001b[0m\u001b[0m\n\u001b[1;32m    914\u001b[0m       \u001b[0;32mwith\u001b[0m \u001b[0mOptionalXlaContext\u001b[0m\u001b[0;34m(\u001b[0m\u001b[0mself\u001b[0m\u001b[0;34m.\u001b[0m\u001b[0m_jit_compile\u001b[0m\u001b[0;34m)\u001b[0m\u001b[0;34m:\u001b[0m\u001b[0;34m\u001b[0m\u001b[0;34m\u001b[0m\u001b[0m\n\u001b[0;32m--> 915\u001b[0;31m         \u001b[0mresult\u001b[0m \u001b[0;34m=\u001b[0m \u001b[0mself\u001b[0m\u001b[0;34m.\u001b[0m\u001b[0m_call\u001b[0m\u001b[0;34m(\u001b[0m\u001b[0;34m*\u001b[0m\u001b[0margs\u001b[0m\u001b[0;34m,\u001b[0m \u001b[0;34m**\u001b[0m\u001b[0mkwds\u001b[0m\u001b[0;34m)\u001b[0m\u001b[0;34m\u001b[0m\u001b[0;34m\u001b[0m\u001b[0m\n\u001b[0m\u001b[1;32m    916\u001b[0m \u001b[0;34m\u001b[0m\u001b[0m\n\u001b[1;32m    917\u001b[0m       \u001b[0mnew_tracing_count\u001b[0m \u001b[0;34m=\u001b[0m \u001b[0mself\u001b[0m\u001b[0;34m.\u001b[0m\u001b[0mexperimental_get_tracing_count\u001b[0m\u001b[0;34m(\u001b[0m\u001b[0;34m)\u001b[0m\u001b[0;34m\u001b[0m\u001b[0;34m\u001b[0m\u001b[0m\n",
            "\u001b[0;32m/usr/local/lib/python3.7/dist-packages/tensorflow/python/eager/def_function.py\u001b[0m in \u001b[0;36m_call\u001b[0;34m(self, *args, **kwds)\u001b[0m\n\u001b[1;32m    945\u001b[0m       \u001b[0;31m# In this case we have created variables on the first call, so we run the\u001b[0m\u001b[0;34m\u001b[0m\u001b[0;34m\u001b[0m\u001b[0;34m\u001b[0m\u001b[0m\n\u001b[1;32m    946\u001b[0m       \u001b[0;31m# defunned version which is guaranteed to never create variables.\u001b[0m\u001b[0;34m\u001b[0m\u001b[0;34m\u001b[0m\u001b[0;34m\u001b[0m\u001b[0m\n\u001b[0;32m--> 947\u001b[0;31m       \u001b[0;32mreturn\u001b[0m \u001b[0mself\u001b[0m\u001b[0;34m.\u001b[0m\u001b[0m_stateless_fn\u001b[0m\u001b[0;34m(\u001b[0m\u001b[0;34m*\u001b[0m\u001b[0margs\u001b[0m\u001b[0;34m,\u001b[0m \u001b[0;34m**\u001b[0m\u001b[0mkwds\u001b[0m\u001b[0;34m)\u001b[0m  \u001b[0;31m# pylint: disable=not-callable\u001b[0m\u001b[0;34m\u001b[0m\u001b[0;34m\u001b[0m\u001b[0m\n\u001b[0m\u001b[1;32m    948\u001b[0m     \u001b[0;32melif\u001b[0m \u001b[0mself\u001b[0m\u001b[0;34m.\u001b[0m\u001b[0m_stateful_fn\u001b[0m \u001b[0;32mis\u001b[0m \u001b[0;32mnot\u001b[0m \u001b[0;32mNone\u001b[0m\u001b[0;34m:\u001b[0m\u001b[0;34m\u001b[0m\u001b[0;34m\u001b[0m\u001b[0m\n\u001b[1;32m    949\u001b[0m       \u001b[0;31m# Release the lock early so that multiple threads can perform the call\u001b[0m\u001b[0;34m\u001b[0m\u001b[0;34m\u001b[0m\u001b[0;34m\u001b[0m\u001b[0m\n",
            "\u001b[0;32m/usr/local/lib/python3.7/dist-packages/tensorflow/python/eager/function.py\u001b[0m in \u001b[0;36m__call__\u001b[0;34m(self, *args, **kwargs)\u001b[0m\n\u001b[1;32m   2955\u001b[0m        filtered_flat_args) = self._maybe_define_function(args, kwargs)\n\u001b[1;32m   2956\u001b[0m     return graph_function._call_flat(\n\u001b[0;32m-> 2957\u001b[0;31m         filtered_flat_args, captured_inputs=graph_function.captured_inputs)  # pylint: disable=protected-access\n\u001b[0m\u001b[1;32m   2958\u001b[0m \u001b[0;34m\u001b[0m\u001b[0m\n\u001b[1;32m   2959\u001b[0m   \u001b[0;34m@\u001b[0m\u001b[0mproperty\u001b[0m\u001b[0;34m\u001b[0m\u001b[0;34m\u001b[0m\u001b[0m\n",
            "\u001b[0;32m/usr/local/lib/python3.7/dist-packages/tensorflow/python/eager/function.py\u001b[0m in \u001b[0;36m_call_flat\u001b[0;34m(self, args, captured_inputs, cancellation_manager)\u001b[0m\n\u001b[1;32m   1852\u001b[0m       \u001b[0;31m# No tape is watching; skip to running the function.\u001b[0m\u001b[0;34m\u001b[0m\u001b[0;34m\u001b[0m\u001b[0;34m\u001b[0m\u001b[0m\n\u001b[1;32m   1853\u001b[0m       return self._build_call_outputs(self._inference_function.call(\n\u001b[0;32m-> 1854\u001b[0;31m           ctx, args, cancellation_manager=cancellation_manager))\n\u001b[0m\u001b[1;32m   1855\u001b[0m     forward_backward = self._select_forward_and_backward_functions(\n\u001b[1;32m   1856\u001b[0m         \u001b[0margs\u001b[0m\u001b[0;34m,\u001b[0m\u001b[0;34m\u001b[0m\u001b[0;34m\u001b[0m\u001b[0m\n",
            "\u001b[0;32m/usr/local/lib/python3.7/dist-packages/tensorflow/python/eager/function.py\u001b[0m in \u001b[0;36mcall\u001b[0;34m(self, ctx, args, cancellation_manager)\u001b[0m\n\u001b[1;32m    502\u001b[0m               \u001b[0minputs\u001b[0m\u001b[0;34m=\u001b[0m\u001b[0margs\u001b[0m\u001b[0;34m,\u001b[0m\u001b[0;34m\u001b[0m\u001b[0;34m\u001b[0m\u001b[0m\n\u001b[1;32m    503\u001b[0m               \u001b[0mattrs\u001b[0m\u001b[0;34m=\u001b[0m\u001b[0mattrs\u001b[0m\u001b[0;34m,\u001b[0m\u001b[0;34m\u001b[0m\u001b[0;34m\u001b[0m\u001b[0m\n\u001b[0;32m--> 504\u001b[0;31m               ctx=ctx)\n\u001b[0m\u001b[1;32m    505\u001b[0m         \u001b[0;32melse\u001b[0m\u001b[0;34m:\u001b[0m\u001b[0;34m\u001b[0m\u001b[0;34m\u001b[0m\u001b[0m\n\u001b[1;32m    506\u001b[0m           outputs = execute.execute_with_cancellation(\n",
            "\u001b[0;32m/usr/local/lib/python3.7/dist-packages/tensorflow/python/eager/execute.py\u001b[0m in \u001b[0;36mquick_execute\u001b[0;34m(op_name, num_outputs, inputs, attrs, ctx, name)\u001b[0m\n\u001b[1;32m     53\u001b[0m     \u001b[0mctx\u001b[0m\u001b[0;34m.\u001b[0m\u001b[0mensure_initialized\u001b[0m\u001b[0;34m(\u001b[0m\u001b[0;34m)\u001b[0m\u001b[0;34m\u001b[0m\u001b[0;34m\u001b[0m\u001b[0m\n\u001b[1;32m     54\u001b[0m     tensors = pywrap_tfe.TFE_Py_Execute(ctx._handle, device_name, op_name,\n\u001b[0;32m---> 55\u001b[0;31m                                         inputs, attrs, num_outputs)\n\u001b[0m\u001b[1;32m     56\u001b[0m   \u001b[0;32mexcept\u001b[0m \u001b[0mcore\u001b[0m\u001b[0;34m.\u001b[0m\u001b[0m_NotOkStatusException\u001b[0m \u001b[0;32mas\u001b[0m \u001b[0me\u001b[0m\u001b[0;34m:\u001b[0m\u001b[0;34m\u001b[0m\u001b[0;34m\u001b[0m\u001b[0m\n\u001b[1;32m     57\u001b[0m     \u001b[0;32mif\u001b[0m \u001b[0mname\u001b[0m \u001b[0;32mis\u001b[0m \u001b[0;32mnot\u001b[0m \u001b[0;32mNone\u001b[0m\u001b[0;34m:\u001b[0m\u001b[0;34m\u001b[0m\u001b[0;34m\u001b[0m\u001b[0m\n",
            "\u001b[0;31mKeyboardInterrupt\u001b[0m: "
          ]
        }
      ],
      "source": [
        "history1=model1.fit(train,epochs=1,validation_data= val)"
      ]
    },
    {
      "cell_type": "markdown",
      "metadata": {
        "id": "W8jSnaxtofBj"
      },
      "source": [
        "model"
      ]
    },
    {
      "cell_type": "code",
      "execution_count": null,
      "metadata": {
        "id": "afksZvybVLgn"
      },
      "outputs": [],
      "source": [
        "model = Sequential()\n",
        "# Create the embedding layer \n",
        "model.add(Embedding(vocab_size+1, 32))\n",
        "# Bidirectional LSTM Layer\n",
        "model.add(Bidirectional(LSTM(32, activation='tanh')))\n",
        "# Feature extractor Fully connected layers\n",
        "model.add(Dense(128, activation='relu'))\n",
        "model.add(Dense(256, activation='relu'))\n",
        "model.add(Dense(128, activation='relu'))\n",
        "# Final layer \n",
        "model.add(Dense(1, activation='sigmoid'))\n",
        "\n",
        "model.compile(loss='BinaryCrossentropy',metrics=['accuracy'], optimizer='Adam')"
      ]
    },
    {
      "cell_type": "code",
      "execution_count": null,
      "metadata": {
        "colab": {
          "base_uri": "https://localhost:8080/"
        },
        "id": "WPM-saMMnxcf",
        "outputId": "d2a3f712-eb3c-4d8d-d05d-f743808d08c7"
      },
      "outputs": [
        {
          "name": "stdout",
          "output_type": "stream",
          "text": [
            "Model: \"sequential_1\"\n",
            "_________________________________________________________________\n",
            " Layer (type)                Output Shape              Param #   \n",
            "=================================================================\n",
            " embedding_1 (Embedding)     (None, None, 32)          640032    \n",
            "                                                                 \n",
            " bidirectional (Bidirectiona  (None, 64)               16640     \n",
            " l)                                                              \n",
            "                                                                 \n",
            " dense_5 (Dense)             (None, 128)               8320      \n",
            "                                                                 \n",
            " dense_6 (Dense)             (None, 256)               33024     \n",
            "                                                                 \n",
            " dense_7 (Dense)             (None, 128)               32896     \n",
            "                                                                 \n",
            " dense_8 (Dense)             (None, 1)                 129       \n",
            "                                                                 \n",
            "=================================================================\n",
            "Total params: 731,041\n",
            "Trainable params: 731,041\n",
            "Non-trainable params: 0\n",
            "_________________________________________________________________\n"
          ]
        }
      ],
      "source": [
        "model.summary()"
      ]
    },
    {
      "cell_type": "code",
      "execution_count": null,
      "metadata": {
        "colab": {
          "background_save": true,
          "base_uri": "https://localhost:8080/"
        },
        "id": "HnKT3hrXVOAv",
        "outputId": "b97692c5-c96c-4fa7-8ba5-a869dce9493f"
      },
      "outputs": [
        {
          "name": "stdout",
          "output_type": "stream",
          "text": [
            "Epoch 1/10\n",
            "1069/1069 [==============================] - 1633s 2s/step - loss: -23085028.0000 - accuracy: 0.2140 - val_loss: -99351472.0000 - val_accuracy: 0.2221\n",
            "Epoch 2/10\n",
            "1069/1069 [==============================] - 1638s 2s/step - loss: -599912832.0000 - accuracy: 0.2154 - val_loss: -1376924416.0000 - val_accuracy: 0.2131\n",
            "Epoch 3/10\n",
            "1069/1069 [==============================] - 1654s 2s/step - loss: -3740534016.0000 - accuracy: 0.2119 - val_loss: -6252649472.0000 - val_accuracy: 0.2098\n",
            "Epoch 4/10\n",
            "1069/1069 [==============================] - 1664s 2s/step - loss: -12354582528.0000 - accuracy: 0.2116 - val_loss: -17183864832.0000 - val_accuracy: 0.2139\n",
            "Epoch 5/10\n",
            "1069/1069 [==============================] - 1646s 2s/step - loss: -31137599488.0000 - accuracy: 0.2095 - val_loss: -40817958912.0000 - val_accuracy: 0.2090\n",
            "Epoch 6/10\n",
            "1069/1069 [==============================] - 1648s 2s/step - loss: -63034142720.0000 - accuracy: 0.2182 - val_loss: -73834979328.0000 - val_accuracy: 0.2320\n",
            "Epoch 7/10\n",
            "1069/1069 [==============================] - 1652s 2s/step - loss: -111803326464.0000 - accuracy: 0.2116 - val_loss: -134690463744.0000 - val_accuracy: 0.2205\n",
            "Epoch 8/10\n",
            "1069/1069 [==============================] - 1659s 2s/step - loss: -182455156736.0000 - accuracy: 0.2194 - val_loss: -198314049536.0000 - val_accuracy: 0.2279\n",
            "Epoch 9/10\n",
            "1069/1069 [==============================] - 1647s 2s/step - loss: -280202117120.0000 - accuracy: 0.2201 - val_loss: -324636213248.0000 - val_accuracy: 0.2139\n",
            "Epoch 10/10\n",
            "1069/1069 [==============================] - 1641s 2s/step - loss: -422008520704.0000 - accuracy: 0.2271 - val_loss: -479580291072.0000 - val_accuracy: 0.2246\n"
          ]
        }
      ],
      "source": [
        "history=model.fit(train,epochs=10,validation_data= val)"
      ]
    },
    {
      "cell_type": "code",
      "execution_count": null,
      "metadata": {
        "colab": {
          "base_uri": "https://localhost:8080/",
          "height": 293
        },
        "id": "V_J9DWZ3n25H",
        "outputId": "cb67c52d-dd53-4943-a911-41c96e71eb7a"
      },
      "outputs": [
        {
          "data": {
            "text/plain": [
              "<Figure size 576x360 with 0 Axes>"
            ]
          },
          "metadata": {},
          "output_type": "display_data"
        },
        {
          "data": {
            "image/png": "[encoded data removed]",
            "text/plain": [
              "<Figure size 432x288 with 1 Axes>"
            ]
          },
          "metadata": {},
          "output_type": "display_data"
        }
      ],
      "source": [
        "plt.figure(figsize=(8,5))\n",
        "pd.DataFrame(history.history).plot()\n",
        "plt.show()"
      ]
    },
    {
      "cell_type": "code",
      "execution_count": null,
      "metadata": {
        "colab": {
          "base_uri": "https://localhost:8080/"
        },
        "id": "2tx-07vhPNZk",
        "outputId": "fc8de8cd-2bb2-4a74-c256-cc0ded2163e1"
      },
      "outputs": [
        {
          "name": "stdout",
          "output_type": "stream",
          "text": [
            "Model: \"sequential_2\"\n",
            "_________________________________________________________________\n",
            " Layer (type)                Output Shape              Param #   \n",
            "=================================================================\n",
            " embedding_2 (Embedding)     (None, 100, 300)          60000000  \n",
            "                                                                 \n",
            " conv1d (Conv1D)             (None, 98, 200)           180200    \n",
            "                                                                 \n",
            " bidirectional_1 (Bidirectio  (None, 98, 128)          135680    \n",
            " nal)                                                            \n",
            "                                                                 \n",
            " dropout_4 (Dropout)         (None, 98, 128)           0         \n",
            "                                                                 \n",
            " bidirectional_2 (Bidirectio  (None, 128)              98816     \n",
            " nal)                                                            \n",
            "                                                                 \n",
            " dense_9 (Dense)             (None, 50)                6450      \n",
            "                                                                 \n",
            " dense_10 (Dense)            (None, 50)                2550      \n",
            "                                                                 \n",
            " flatten_1 (Flatten)         (None, 50)                0         \n",
            "                                                                 \n",
            " dense_11 (Dense)            (None, 100)               5100      \n",
            "                                                                 \n",
            " dense_12 (Dense)            (None, 1)                 101       \n",
            "                                                                 \n",
            "=================================================================\n",
            "Total params: 60,428,897\n",
            "Trainable params: 60,428,897\n",
            "Non-trainable params: 0\n",
            "_________________________________________________________________\n"
          ]
        }
      ],
      "source": [
        "with tf.device('/gpu:0'):\n",
        "    model= Sequential()\n",
        "    model.add(Embedding(vocab_size, embedding_dim, input_length=max_length))\n",
        "    model.add(Conv1D(200, kernel_size=3, activation = \"relu\"))\n",
        "    model.add(Bidirectional(LSTM(64, return_sequences=True)))\n",
        "    model.add(Dropout(0.5))\n",
        "    model.add(Bidirectional(LSTM(64)))\n",
        "    model.add(Dense(50, activation='relu'))\n",
        "    model.add(Dense(50, activation='relu'))\n",
        "    model.add(Flatten())\n",
        "    #l2 regularizer\n",
        "    model.add(Dense(100,kernel_regularizer=regularizers.l2(0.01),activation=\"relu\"))\n",
        "    model.add(Dense(1, activation='softmax'))\n",
        "    #sgd= SGD(lr=0.0001,decay=1e-6,momentum=0.9,nesterov=True)\n",
        "    adam=Adam(learning_rate=0.0005,beta_1=0.9,beta_2=0.999,epsilon=1e-07,amsgrad=False)\n",
        "    model.summary()\n",
        "    model.compile(loss='categorical_crossentropy',optimizer=adam,metrics=['accuracy'])\n"
      ]
    },
    {
      "cell_type": "code",
      "execution_count": null,
      "metadata": {
        "colab": {
          "base_uri": "https://localhost:8080/"
        },
        "id": "YI6ZR4ll89EC",
        "outputId": "dfbb197e-630d-4b82-bad8-98d3eb9fa60e"
      },
      "outputs": [
        {
          "name": "stdout",
          "output_type": "stream",
          "text": [
            "291/291 [==============================] - 262s 898ms/step - loss: 0.0000e+00 - accuracy: 2.1478e-04 - val_loss: 0.0000e+00 - val_accuracy: 0.0000e+00\n"
          ]
        }
      ],
      "source": [
        "history=model1.fit(train,batch_size=64,epochs=1,validation_data= val)"
      ]
    },
    {
      "cell_type": "markdown",
      "metadata": {
        "id": "pm8kvCbvn8kB"
      },
      "source": [
        "# Eval"
      ]
    },
    {
      "cell_type": "code",
      "execution_count": null,
      "metadata": {
        "id": "GH2aE3XgoEvK"
      },
      "outputs": [],
      "source": [
        "from tensorflow.keras.metrics import Precision, Recall, CategoricalAccuracy\n"
      ]
    },
    {
      "cell_type": "code",
      "execution_count": null,
      "metadata": {
        "id": "e41mUbJ9-1SF"
      },
      "outputs": [],
      "source": [
        "pre = Precision()\n",
        "re = Recall()\n",
        "acc = CategoricalAccuracy()"
      ]
    },
    {
      "cell_type": "code",
      "execution_count": null,
      "metadata": {
        "id": "l2fNHWf_oBzY"
      },
      "outputs": [],
      "source": [
        "for batch in test.as_numpy_iterator(): \n",
        "    # Unpack the batch \n",
        "    X_true, y_true = batch\n",
        "    # Make a prediction \n",
        "    yhat = model.predict(X_true)\n",
        "    \n",
        "    # Flatten the predictions\n",
        "    y_true = y_true.flatten()\n",
        "    yhat = yhat.flatten()\n",
        "    \n",
        "    pre.update_state(y_true, yhat)\n",
        "    re.update_state(y_true, yhat)\n",
        "    acc.update_state(y_true, yhat)"
      ]
    },
    {
      "cell_type": "code",
      "execution_count": null,
      "metadata": {
        "colab": {
          "base_uri": "https://localhost:8080/"
        },
        "id": "gWnD6T1zKqvU",
        "outputId": "cd7b2749-f20f-4bfa-ecfc-dfb363d9afea"
      },
      "outputs": [
        {
          "name": "stdout",
          "output_type": "stream",
          "text": [
            "Precision: 1.0, Recall:1.0, Accuracy:0.04878048598766327\n"
          ]
        }
      ],
      "source": [
        "print(f'Precision: {pre.result().numpy()}, Recall:{re.result().numpy()}, Accuracy:{acc.result().numpy()}')\n"
      ]
    }
  ],
  "metadata": {
    "colab": {
      "collapsed_sections": [],
      "name": "Untitled6.ipynb",
      "provenance": []
    },
    "kernelspec": {
      "display_name": "Python 3",
      "name": "python3"
    },
    "language_info": {
      "name": "python"
    }
  },
  "nbformat": 4,
  "nbformat_minor": 0
}